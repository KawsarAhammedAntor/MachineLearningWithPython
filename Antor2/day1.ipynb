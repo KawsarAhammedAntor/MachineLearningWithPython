{
 "cells": [
  {
   "cell_type": "code",
   "execution_count": null,
   "id": "8305c7c9",
   "metadata": {},
   "outputs": [],
   "source": [
    "print(\"Hello World\")"
   ]
  },
  {
   "cell_type": "code",
   "execution_count": null,
   "id": "51bc4452",
   "metadata": {},
   "outputs": [],
   "source": [
    "\n",
    "user_input = input(\"Please enter your name: \")\n",
    "print(\"Hello, \" + user_input + \"!\")"
   ]
  },
  {
   "cell_type": "code",
   "execution_count": null,
   "id": "1f5ffe81",
   "metadata": {},
   "outputs": [],
   "source": [
    "a = input(\"Pease enter a=\")\n",
    "b = input(\"Pease enter b=\")\n",
    "print (int (a)+ int(b))"
   ]
  },
  {
   "cell_type": "code",
   "execution_count": null,
   "id": "a0bc43e3",
   "metadata": {},
   "outputs": [],
   "source": [
    "seconds_in_a_day= 24*60*60\n",
    "print(str(seconds_in_a_day)+\" seconds\")\n",
    "print(f\"{seconds_in_a_day} seconds\")\n"
   ]
  },
  {
   "cell_type": "code",
   "execution_count": null,
   "id": "1025090d",
   "metadata": {},
   "outputs": [],
   "source": [
    "value = input(\"Please enter a string:\\n\")\n",
    "\n",
    "print(\"The string is\", value)\n",
    "\n",
    "number = int(input(\"Please enter a integer number:\\n\"))\n",
    "\n",
    "print(\"The number is\", number)\n",
    "print(type(number))"
   ]
  }
 ],
 "metadata": {
  "language_info": {
   "name": "python"
  }
 },
 "nbformat": 4,
 "nbformat_minor": 5
}
