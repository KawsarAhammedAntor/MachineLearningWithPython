{
 "cells": [
  {
   "cell_type": "code",
   "execution_count": 3,
   "id": "7e8afb29",
   "metadata": {},
   "outputs": [
    {
     "name": "stdout",
     "output_type": "stream",
     "text": [
      "X is nither 3 nor 5\n"
     ]
    }
   ],
   "source": [
    "x = int (input(\"Enter a number \"))\n",
    "\n",
    "if x ==3:\n",
    "    print(\"X is 3\")\n",
    "    \n",
    "elif(x==5):\n",
    "    print(\"X is 5\")\n",
    "else:\n",
    "    print(\"X is nither 3 nor 5\")"
   ]
  },
  {
   "cell_type": "code",
   "execution_count": 5,
   "id": "cf8f0f62",
   "metadata": {},
   "outputs": [
    {
     "name": "stdout",
     "output_type": "stream",
     "text": [
      "X is not 5\n"
     ]
    }
   ],
   "source": [
    "if x != 5:\n",
    "    print(\"X is not 5\")"
   ]
  },
  {
   "cell_type": "code",
   "execution_count": 11,
   "id": "b5cfac99",
   "metadata": {},
   "outputs": [
    {
     "name": "stdout",
     "output_type": "stream",
     "text": [
      "You got it!\n"
     ]
    }
   ],
   "source": [
    "num = int (input(\"Enter a number\"))\n",
    "guess = 2\n",
    "\n",
    "if guess == num:\n",
    "    print(\"You got it!\")\n",
    "else:\n",
    "    print(\"You missed it.\")"
   ]
  },
  {
   "cell_type": "code",
   "execution_count": null,
   "id": "a4f0e8e8",
   "metadata": {},
   "outputs": [],
   "source": [
    "entry = input(\"Do you have any discount? (yes/no):\")\n",
    "\n",
    "if entry == \"yes\":\n",
    "    print(\"Your total bill is $45.00\")\n",
    "elif entry == \"no\":\n",
    "    print(\"Your total bill is $50.00\")\n",
    "else:\n",
    "    print(\"Invalid entry\")"
   ]
  },
  {
   "cell_type": "code",
   "execution_count": 19,
   "id": "3b4cbd3e",
   "metadata": {},
   "outputs": [
    {
     "name": "stdout",
     "output_type": "stream",
     "text": [
      "100 90 80 70 60 50 40 30 20 10 "
     ]
    }
   ],
   "source": [
    "for i in range(100,0,-5):\n",
    "    if(i%2==0):\n",
    "        print(i, end=\" \")"
   ]
  },
  {
   "cell_type": "code",
   "execution_count": 28,
   "id": "a51e362c",
   "metadata": {},
   "outputs": [
    {
     "name": "stdout",
     "output_type": "stream",
     "text": [
      "kawsar ahammed antor\n",
      "7\n"
     ]
    },
    {
     "ename": "TypeError",
     "evalue": "'str' object cannot be interpreted as an integer",
     "output_type": "error",
     "traceback": [
      "\u001b[31m---------------------------------------------------------------------------\u001b[39m",
      "\u001b[31mTypeError\u001b[39m                                 Traceback (most recent call last)",
      "\u001b[36mCell\u001b[39m\u001b[36m \u001b[39m\u001b[32mIn[28]\u001b[39m\u001b[32m, line 6\u001b[39m\n\u001b[32m      4\u001b[39m \u001b[38;5;28mprint\u001b[39m(name)\n\u001b[32m      5\u001b[39m \u001b[38;5;28mprint\u001b[39m(vowel)\n\u001b[32m----> \u001b[39m\u001b[32m6\u001b[39m \u001b[38;5;28;01mfor\u001b[39;00m consonent \u001b[38;5;129;01min\u001b[39;00m \u001b[38;5;28;43mrange\u001b[39;49m\u001b[43m(\u001b[49m\u001b[33;43m'\u001b[39;49m\u001b[33;43ma\u001b[39;49m\u001b[33;43m'\u001b[39;49m\u001b[43m,\u001b[49m\u001b[33;43m'\u001b[39;49m\u001b[33;43mz\u001b[39;49m\u001b[33;43m'\u001b[39;49m\u001b[43m,\u001b[49m\u001b[43m-\u001b[49m\u001b[43mvowel\u001b[49m\u001b[43m)\u001b[49m:\n\u001b[32m      7\u001b[39m     \u001b[38;5;28mprint\u001b[39m(consonent)\n",
      "\u001b[31mTypeError\u001b[39m: 'str' object cannot be interpreted as an integer"
     ]
    }
   ],
   "source": [
    "name= input(\"Enter you name= \").lower() \n",
    "\n",
    "vowel= name.count('a') + name.count('e') + name.count('i') + name.count('o') + name.count('u')\n",
    "print(name)\n",
    "print(vowel)\n",
    "for consonent in range('a','z',-vowel):\n",
    "    print(consonent)"
   ]
  },
  {
   "cell_type": "code",
   "execution_count": 34,
   "id": "6df9eff3",
   "metadata": {},
   "outputs": [
    {
     "name": "stdout",
     "output_type": "stream",
     "text": [
      "Wellcome to the Guess The Number Game\n",
      "Thinking a number, you have to guess\n",
      "Too Hight\n",
      "Too Low\n",
      "Too Low\n",
      "Too Low\n",
      "Too Hight\n",
      "Too Hight\n",
      "Too Hight\n",
      "Too Hight\n",
      "Too Hight\n",
      "Too Hight\n",
      "Too Low\n",
      "Too Low\n",
      "Congratulations! You have guessed the number correctly\n"
     ]
    }
   ],
   "source": [
    "import random\n",
    "\n",
    "secret_number= random.randint(1, 101)\n",
    "attempts = 0\n",
    "guessed_correctly= False\n",
    "print(\"Wellcome to the Guess The Number Game\")\n",
    "print(\"Thinking a number, you have to guess\")\n",
    "\n",
    "while not guessed_correctly:\n",
    "    try:\n",
    "        guess = int(input(\"Enger your guessed number\"))\n",
    "        attempts+=1\n",
    "        \n",
    "        if guess< secret_number:\n",
    "            print(\"Too Low\")\n",
    "        elif guess> secret_number:\n",
    "            print(\"Too Hight\")\n",
    "        else:\n",
    "            guessed_correctly= True\n",
    "            print(f\"Congratulations! You have guessed the number correctly\")\n",
    "    except ValueError:\n",
    "        print(\"Please enter a valid integer number\")\n",
    "        \n"
   ]
  }
 ],
 "metadata": {
  "kernelspec": {
   "display_name": "Python 3",
   "language": "python",
   "name": "python3"
  },
  "language_info": {
   "codemirror_mode": {
    "name": "ipython",
    "version": 3
   },
   "file_extension": ".py",
   "mimetype": "text/x-python",
   "name": "python",
   "nbconvert_exporter": "python",
   "pygments_lexer": "ipython3",
   "version": "3.13.3"
  }
 },
 "nbformat": 4,
 "nbformat_minor": 5
}
